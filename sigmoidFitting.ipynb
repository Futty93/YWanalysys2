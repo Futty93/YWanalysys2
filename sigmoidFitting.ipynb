{
  "nbformat": 4,
  "nbformat_minor": 0,
  "metadata": {
    "colab": {
      "provenance": [],
      "authorship_tag": "ABX9TyMp9PUFJtsIz6NCFopaxYah",
      "include_colab_link": true
    },
    "kernelspec": {
      "name": "python3",
      "display_name": "Python 3"
    },
    "language_info": {
      "name": "python"
    }
  },
  "cells": [
    {
      "cell_type": "markdown",
      "metadata": {
        "id": "view-in-github",
        "colab_type": "text"
      },
      "source": [
        "<a href=\"https://colab.research.google.com/github/Futty93/YWanalysys2/blob/main/sigmoidFitting.ipynb\" target=\"_parent\"><img src=\"https://colab.research.google.com/assets/colab-badge.svg\" alt=\"Open In Colab\"/></a>"
      ]
    },
    {
      "cell_type": "code",
      "execution_count": 10,
      "metadata": {
        "colab": {
          "base_uri": "https://localhost:8080/",
          "height": 576
        },
        "id": "v2hHFuJo1-Wl",
        "outputId": "19f6cd76-c344-4966-f7f6-b2a6402d11cf"
      },
      "outputs": [
        {
          "output_type": "stream",
          "name": "stderr",
          "text": [
            "<ipython-input-10-0deac33c0e17>:7: RuntimeWarning: divide by zero encountered in log\n",
            "  y = a / (1 + np.exp(-k*(np.log(x)-np.log(x0)))) + c\n"
          ]
        },
        {
          "output_type": "display_data",
          "data": {
            "text/plain": [
              "<Figure size 640x480 with 1 Axes>"
            ],
            "image/png": "[encoded data removed]"
          },
          "metadata": {}
        },
        {
          "output_type": "stream",
          "name": "stdout",
          "text": [
            "Fitted Parameters:\n",
            "k: 102.2907596077409\n",
            "x0: 14.83666312070351\n",
            "a: 1.0000059159482702\n",
            "X when Y=0.5: 97.6858520142912\n"
          ]
        }
      ],
      "source": [
        "import numpy as np\n",
        "import matplotlib.pyplot as plt\n",
        "from scipy.optimize import curve_fit\n",
        "\n",
        "# Define the sigmoid function\n",
        "def sigmoid(x, x0, k, a, c):\n",
        "  y = a / (1 + np.exp(-k*(np.log(x)-np.log(x0)))) + c\n",
        "  return y\n",
        "\n",
        "# Given data\n",
        "x = np.array([0, 3, 10, 30, 100, 300, 1000, 3000, 10000, 30000])\n",
        "y = np.array( [645912.4444444444, 662687.4444444445, 681729.4444444445, 782613.2222222221, 1104603.4444444443, 1799189.7777777778, 1875477.3333333333, 1562872.5555555557, 1655872.6666666667, 1508195.888888889])\n",
        "# maxNum = max(y)\n",
        "# for i in range(10):\n",
        "#   y[i] = y[i]/maxNum\n",
        "\n",
        "init_params = np.array([100, 1, max(y) - min(y), min(y)])\n",
        "\n",
        "# Fit the data to the sigmoid curve\n",
        "popt, pcov = curve_fit(sigmoid, x, y, init_params)\n",
        "\n",
        "# Generate values for the x-axis to plot the fitted curve\n",
        "x_fit = np.logspace(0, np.log10(30000), 100)\n",
        "y_fit = sigmoid(x_fit, *popt)\n",
        "\n",
        "sigMin = min(y_fit)\n",
        "sigMax = max(y_fit)\n",
        "\n",
        "for i in range(10):\n",
        "  y[i] = (y[i] - sigMin)/(sigMax - sigMin)\n",
        "\n",
        "init_params = np.array([100, 1, max(y) - min(y), 0])\n",
        "\n",
        "# Fit the data to the sigmoid curve\n",
        "popt, pcov = curve_fit(sigmoid, x, y, init_params)\n",
        "\n",
        "# Generate values for the x-axis to plot the fitted curve\n",
        "x_fit = np.logspace(0, np.log10(30000), 100)\n",
        "y_fit = sigmoid(x_fit, *popt)\n",
        "\n",
        "# Find X when Y is 0.5\n",
        "y_target = 0.5\n",
        "x_target = np.power(10, (np.log10(x_fit[np.abs(y_fit - y_target).argmin()])))\n",
        "\n",
        "# Plotting the original data and the fitted curve\n",
        "plt.scatter(x, y, label='Data')\n",
        "plt.plot(x_fit, y_fit, 'r-', label='Fitted Curve')\n",
        "plt.xscale('log')\n",
        "plt.xlabel('X (log scale)')\n",
        "plt.ylabel('Y')\n",
        "plt.legend()\n",
        "plt.show()\n",
        "\n",
        "# Print the parameters of the fitted curve\n",
        "print('Fitted Parameters:')\n",
        "print('k:', popt[0])\n",
        "print('x0:', popt[1])\n",
        "print('a:', popt[2])\n",
        "# print(popt)\n",
        "# print(y_fit)\n",
        "\n",
        "# Print the value of X when Y=0.5\n",
        "print('X when Y=0.5:', x_target)\n",
        "\n",
        "\n"
      ]
    }
  ]
}